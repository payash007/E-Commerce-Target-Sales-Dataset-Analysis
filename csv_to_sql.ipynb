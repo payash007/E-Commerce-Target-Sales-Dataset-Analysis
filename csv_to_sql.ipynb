{
 "cells": [
  {
   "cell_type": "code",
   "execution_count": 1,
   "id": "8ff1010e-2c26-4d58-b316-4627003f7e30",
   "metadata": {},
   "outputs": [
    {
     "name": "stdout",
     "output_type": "stream",
     "text": [
      "Collecting mysql.connector\n",
      "  Downloading mysql-connector-2.2.9.tar.gz (11.9 MB)\n",
      "     ---------------------------------------- 0.0/11.9 MB ? eta -:--:--\n",
      "     ---------------------------------------- 0.0/11.9 MB ? eta -:--:--\n",
      "     ---------------------------------------- 0.0/11.9 MB ? eta -:--:--\n",
      "     --------------------------------------- 0.0/11.9 MB 393.8 kB/s eta 0:00:30\n",
      "      --------------------------------------- 0.3/11.9 MB 2.0 MB/s eta 0:00:06\n",
      "     -- ------------------------------------- 0.7/11.9 MB 4.2 MB/s eta 0:00:03\n",
      "     ---- ----------------------------------- 1.2/11.9 MB 5.7 MB/s eta 0:00:02\n",
      "     ------ --------------------------------- 1.8/11.9 MB 6.7 MB/s eta 0:00:02\n",
      "     -------- ------------------------------- 2.5/11.9 MB 7.8 MB/s eta 0:00:02\n",
      "     ---------- ----------------------------- 3.0/11.9 MB 8.4 MB/s eta 0:00:02\n",
      "     ----------- ---------------------------- 3.5/11.9 MB 8.7 MB/s eta 0:00:01\n",
      "     -------------- ------------------------- 4.2/11.9 MB 9.3 MB/s eta 0:00:01\n",
      "     ---------------- ----------------------- 4.8/11.9 MB 9.5 MB/s eta 0:00:01\n",
      "     ------------------ --------------------- 5.4/11.9 MB 9.8 MB/s eta 0:00:01\n",
      "     ------------------- -------------------- 5.9/11.9 MB 9.9 MB/s eta 0:00:01\n",
      "     --------------------- ------------------ 6.5/11.9 MB 10.1 MB/s eta 0:00:01\n",
      "     ------------------------ --------------- 7.2/11.9 MB 10.5 MB/s eta 0:00:01\n",
      "     -------------------------- ------------- 7.9/11.9 MB 10.8 MB/s eta 0:00:01\n",
      "     ---------------------------- ----------- 8.6/11.9 MB 11.0 MB/s eta 0:00:01\n",
      "     ------------------------------- -------- 9.2/11.9 MB 11.3 MB/s eta 0:00:01\n",
      "     --------------------------------- ------ 9.9/11.9 MB 11.3 MB/s eta 0:00:01\n",
      "     ---------------------------------- ---- 10.5/11.9 MB 13.1 MB/s eta 0:00:01\n",
      "     ----------------------------------- --- 10.9/11.9 MB 13.1 MB/s eta 0:00:01\n",
      "     ------------------------------------- - 11.3/11.9 MB 12.8 MB/s eta 0:00:01\n",
      "     --------------------------------------  11.6/11.9 MB 12.6 MB/s eta 0:00:01\n",
      "     --------------------------------------  11.8/11.9 MB 12.4 MB/s eta 0:00:01\n",
      "     --------------------------------------  11.8/11.9 MB 12.4 MB/s eta 0:00:01\n",
      "     --------------------------------------- 11.9/11.9 MB 11.3 MB/s eta 0:00:00\n",
      "  Installing build dependencies: started\n",
      "  Installing build dependencies: finished with status 'done'\n",
      "  Getting requirements to build wheel: started\n",
      "  Getting requirements to build wheel: finished with status 'done'\n",
      "  Preparing metadata (pyproject.toml): started\n",
      "  Preparing metadata (pyproject.toml): finished with status 'done'\n",
      "Building wheels for collected packages: mysql.connector\n",
      "  Building wheel for mysql.connector (pyproject.toml): started\n",
      "  Building wheel for mysql.connector (pyproject.toml): finished with status 'done'\n",
      "  Created wheel for mysql.connector: filename=mysql_connector-2.2.9-cp312-cp312-win_amd64.whl size=247959 sha256=fcb12da39c5a3592d3c60a44bf4470fd0b4273b6e96596ec3c5a19e9c4554d36\n",
      "  Stored in directory: c:\\users\\dell\\appdata\\local\\pip\\cache\\wheels\\03\\17\\fa\\d7604c72dd3dd6d3eb3d249abf36cc532c9a9b4354b8f1bc4f\n",
      "Successfully built mysql.connector\n",
      "Installing collected packages: mysql.connector\n",
      "Successfully installed mysql.connector-2.2.9\n"
     ]
    },
    {
     "name": "stderr",
     "output_type": "stream",
     "text": [
      "\n",
      "[notice] A new release of pip is available: 23.2.1 -> 24.2\n",
      "[notice] To update, run: python.exe -m pip install --upgrade pip\n"
     ]
    }
   ],
   "source": [
    "!pip install mysql.connector"
   ]
  },
  {
   "cell_type": "code",
   "execution_count": 2,
   "id": "3c000c72-1fbc-4667-959d-0453adacd0ab",
   "metadata": {},
   "outputs": [
    {
     "name": "stdout",
     "output_type": "stream",
     "text": [
      "Collecting mysql-connector-python\n",
      "  Obtaining dependency information for mysql-connector-python from https://files.pythonhosted.org/packages/a1/70/618c9795fcf31768f59060db89bba7cafe9ae180064cb5206948c8c33295/mysql_connector_python-9.0.0-cp312-cp312-win_amd64.whl.metadata\n",
      "  Downloading mysql_connector_python-9.0.0-cp312-cp312-win_amd64.whl.metadata (2.0 kB)\n",
      "Downloading mysql_connector_python-9.0.0-cp312-cp312-win_amd64.whl (14.3 MB)\n",
      "   ---------------------------------------- 0.0/14.3 MB ? eta -:--:--\n",
      "   ---------------------------------------- 0.0/14.3 MB ? eta -:--:--\n",
      "   ---------------------------------------- 0.0/14.3 MB 435.7 kB/s eta 0:00:33\n",
      "   ---------------------------------------- 0.1/14.3 MB 653.6 kB/s eta 0:00:22\n",
      "   - -------------------------------------- 0.5/14.3 MB 2.8 MB/s eta 0:00:05\n",
      "   -- ------------------------------------- 1.0/14.3 MB 5.2 MB/s eta 0:00:03\n",
      "   ---- ----------------------------------- 1.6/14.3 MB 6.2 MB/s eta 0:00:03\n",
      "   ----- ---------------------------------- 2.1/14.3 MB 7.2 MB/s eta 0:00:02\n",
      "   ------- -------------------------------- 2.8/14.3 MB 8.3 MB/s eta 0:00:02\n",
      "   --------- ------------------------------ 3.4/14.3 MB 9.0 MB/s eta 0:00:02\n",
      "   ---------- ----------------------------- 3.9/14.3 MB 9.2 MB/s eta 0:00:02\n",
      "   ------------ --------------------------- 4.5/14.3 MB 9.7 MB/s eta 0:00:02\n",
      "   -------------- ------------------------- 5.2/14.3 MB 10.1 MB/s eta 0:00:01\n",
      "   --------------- ------------------------ 5.7/14.3 MB 10.1 MB/s eta 0:00:01\n",
      "   ----------------- ---------------------- 6.4/14.3 MB 10.4 MB/s eta 0:00:01\n",
      "   ------------------- -------------------- 7.0/14.3 MB 10.6 MB/s eta 0:00:01\n",
      "   -------------------- ------------------- 7.5/14.3 MB 10.6 MB/s eta 0:00:01\n",
      "   ---------------------- ----------------- 8.1/14.3 MB 10.8 MB/s eta 0:00:01\n",
      "   ------------------------ --------------- 8.8/14.3 MB 11.0 MB/s eta 0:00:01\n",
      "   -------------------------- ------------- 9.4/14.3 MB 11.1 MB/s eta 0:00:01\n",
      "   ---------------------------- ----------- 10.2/14.3 MB 11.4 MB/s eta 0:00:01\n",
      "   ------------------------------ --------- 10.8/14.3 MB 13.4 MB/s eta 0:00:01\n",
      "   -------------------------------- ------- 11.5/14.3 MB 13.4 MB/s eta 0:00:01\n",
      "   --------------------------------- ------ 12.2/14.3 MB 13.4 MB/s eta 0:00:01\n",
      "   ------------------------------------ --- 13.0/14.3 MB 13.6 MB/s eta 0:00:01\n",
      "   -------------------------------------- - 13.8/14.3 MB 14.2 MB/s eta 0:00:01\n",
      "   ---------------------------------------  14.3/14.3 MB 14.2 MB/s eta 0:00:01\n",
      "   ---------------------------------------  14.3/14.3 MB 14.2 MB/s eta 0:00:01\n",
      "   ---------------------------------------- 14.3/14.3 MB 12.8 MB/s eta 0:00:00\n",
      "Installing collected packages: mysql-connector-python\n",
      "Successfully installed mysql-connector-python-9.0.0\n"
     ]
    },
    {
     "name": "stderr",
     "output_type": "stream",
     "text": [
      "\n",
      "[notice] A new release of pip is available: 23.2.1 -> 24.2\n",
      "[notice] To update, run: python.exe -m pip install --upgrade pip\n"
     ]
    }
   ],
   "source": [
    " !pip install mysql-connector-python"
   ]
  },
  {
   "cell_type": "code",
   "execution_count": 5,
   "id": "8f28bd6c-7af9-4c8e-8c37-4b06b35fe9e1",
   "metadata": {},
   "outputs": [
    {
     "name": "stdout",
     "output_type": "stream",
     "text": [
      "Processing order_items.csv\n",
      "NaN values before replacement:\n",
      "order_id               0\n",
      "order_item_id          0\n",
      "product_id             0\n",
      "seller_id              0\n",
      "shipping_limit_date    0\n",
      "price                  0\n",
      "freight_value          0\n",
      "dtype: int64\n",
      "\n",
      "Processing payments.csv\n",
      "NaN values before replacement:\n",
      "order_id                0\n",
      "payment_sequential      0\n",
      "payment_type            0\n",
      "payment_installments    0\n",
      "payment_value           0\n",
      "dtype: int64\n",
      "\n"
     ]
    }
   ],
   "source": [
    "import pandas as pd\n",
    "import mysql.connector\n",
    "import os\n",
    "\n",
    "# List of CSV files and their corresponding table names\n",
    "csv_files = [\n",
    "    ('order_items.csv','order_items'),\n",
    "    ('payments.csv','payments')# Added payments.csv for specific handling\n",
    "]\n",
    "\n",
    "# Connect to the MySQL database\n",
    "conn = mysql.connector.connect(\n",
    "    host='localhost',\n",
    "    user='root',\n",
    "    password='Rajan@1870',\n",
    "    database='ecommerce'\n",
    ")\n",
    "cursor = conn.cursor()\n",
    "\n",
    "# Folder containing the CSV files\n",
    "folder_path = 'C:/Users/dell/Desktop/E-Commerce'\n",
    "\n",
    "def get_sql_type(dtype):\n",
    "    if pd.api.types.is_integer_dtype(dtype):\n",
    "        return 'INT'\n",
    "    elif pd.api.types.is_float_dtype(dtype):\n",
    "        return 'FLOAT'\n",
    "    elif pd.api.types.is_bool_dtype(dtype):\n",
    "        return 'BOOLEAN'\n",
    "    elif pd.api.types.is_datetime64_any_dtype(dtype):\n",
    "        return 'DATETIME'\n",
    "    else:\n",
    "        return 'TEXT'\n",
    "\n",
    "for csv_file, table_name in csv_files:\n",
    "    file_path = os.path.join(folder_path, csv_file)\n",
    "    \n",
    "    # Read the CSV file into a pandas DataFrame\n",
    "    df = pd.read_csv(file_path)\n",
    "    \n",
    "    # Replace NaN with None to handle SQL NULL\n",
    "    df = df.where(pd.notnull(df), None)\n",
    "    \n",
    "    # Debugging: Check for NaN values\n",
    "    print(f\"Processing {csv_file}\")\n",
    "    print(f\"NaN values before replacement:\\n{df.isnull().sum()}\\n\")\n",
    "\n",
    "    # Clean column names\n",
    "    df.columns = [col.replace(' ', '_').replace('-', '_').replace('.', '_') for col in df.columns]\n",
    "\n",
    "    # Generate the CREATE TABLE statement with appropriate data types\n",
    "    columns = ', '.join([f'`{col}` {get_sql_type(df[col].dtype)}' for col in df.columns])\n",
    "    create_table_query = f'CREATE TABLE IF NOT EXISTS `{table_name}` ({columns})'\n",
    "    cursor.execute(create_table_query)\n",
    "\n",
    "    # Insert DataFrame data into the MySQL table\n",
    "    for _, row in df.iterrows():\n",
    "        # Convert row to tuple and handle NaN/None explicitly\n",
    "        values = tuple(None if pd.isna(x) else x for x in row)\n",
    "        sql = f\"INSERT INTO `{table_name}` ({', '.join(['`' + col + '`' for col in df.columns])}) VALUES ({', '.join(['%s'] * len(row))})\"\n",
    "        cursor.execute(sql, values)\n",
    "\n",
    "    # Commit the transaction for the current CSV file\n",
    "    conn.commit()\n",
    "\n",
    "# Close the connection\n",
    "conn.close()"
   ]
  },
  {
   "cell_type": "code",
   "execution_count": null,
   "id": "eb26369d-98c4-49f3-8c76-608151d42941",
   "metadata": {},
   "outputs": [],
   "source": []
  }
 ],
 "metadata": {
  "kernelspec": {
   "display_name": "Python 3 (ipykernel)",
   "language": "python",
   "name": "python3"
  },
  "language_info": {
   "codemirror_mode": {
    "name": "ipython",
    "version": 3
   },
   "file_extension": ".py",
   "mimetype": "text/x-python",
   "name": "python",
   "nbconvert_exporter": "python",
   "pygments_lexer": "ipython3",
   "version": "3.12.6"
  }
 },
 "nbformat": 4,
 "nbformat_minor": 5
}
